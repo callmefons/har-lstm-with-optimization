{
  "nbformat": 4,
  "nbformat_minor": 0,
  "metadata": {
    "colab": {
      "name": "(for github) preprocess.ipynb",
      "provenance": [],
      "collapsed_sections": []
    },
    "kernelspec": {
      "name": "python3",
      "display_name": "Python 3"
    },
    "accelerator": "GPU"
  },
  "cells": [
    {
      "cell_type": "markdown",
      "metadata": {
        "id": "8kTchdQJy1eP"
      },
      "source": [
        "### Import libraries"
      ]
    },
    {
      "cell_type": "code",
      "metadata": {
        "id": "bgEAM6PnNAZB",
        "colab": {
          "base_uri": "https://localhost:8080/"
        },
        "outputId": "e67fb844-1ace-49bd-bbba-bc9d00c08b6e"
      },
      "source": [
        "import pandas as pd\n",
        "from matplotlib import pyplot as plt\n",
        "%matplotlib inline\n",
        "import seaborn as sns\n",
        "import numpy as np\n",
        "from scipy import stats\n",
        "from scipy import integrate\n",
        "from scipy.stats import norm\n",
        "from scipy.stats import t as the\n",
        "pd.set_option('display.max_rows', 20)\n",
        "pd.set_option('display.max_columns', 70)\n",
        "\n",
        "from google.colab import drive\n",
        "drive.mount(\"/content/drive\", force_remount=False)\n",
        "\n",
        "%cd \"/content/drive/My Drive/\""
      ],
      "execution_count": null,
      "outputs": [
        {
          "output_type": "stream",
          "text": [
            "Mounted at /content/drive\n",
            "/content/drive/My Drive/sensors2020\n"
          ],
          "name": "stdout"
        }
      ]
    },
    {
      "cell_type": "markdown",
      "metadata": {
        "id": "XqlekDd-NTgJ"
      },
      "source": [
        "### Load and clean data"
      ]
    },
    {
      "cell_type": "code",
      "metadata": {
        "id": "xU0D8gPeMxLM"
      },
      "source": [
        "# activity ID map\n",
        "activity_id = {0: 'transient', 1:'lying', 2:'sitting', 3:'standing',\n",
        "              4:'walking', 5:'running', 6:'cycling', 7:'Nordic walking',\n",
        "              9:'watching TV', 10:'computer work', 11:'car driving',\n",
        "              12:'ascending stairs', 13:'descending stairs', 16:'vacuum cleaning',\n",
        "              17:'ironing', 18:'folding laundry', 19:'house cleaning',\n",
        "              20:'playing soccer', 24:'rope jumping'}\n",
        "\n",
        "# protocol activities\n",
        "protocol_acts = [1,2,3,4,5,6,7,17,16,24,12,13]\n",
        "\n",
        "# optional activities\n",
        "optional_acts = [9,10,11,18,19,20]\n",
        "\n",
        "# light\n",
        "light_acts = [1,2,3,17]\n",
        "# moderate\n",
        "mod_acts = [16,13,4,7,6]\n",
        "# vigorous \n",
        "vig_acts = [12,5,24]\n",
        "\n",
        "# classify activities\n",
        "def map_met(act_id):\n",
        "    if act_id in light_acts:\n",
        "        return 'light'\n",
        "    if act_id in mod_acts:\n",
        "        return 'moderate'\n",
        "    if act_id in vig_acts:\n",
        "        return 'vigorous'\n",
        "\n",
        "# make list for updating column names in dataframe\n",
        "col_names=['timestamp', 'activity_id', 'heart_rate']\n",
        "IMU_locations = ['hand', 'chest', 'ankle']\n",
        "IMU_data = ['tmp', 'acc_16_01', 'acc_16_02', 'acc_16_03',\n",
        "            'acc_06_01', 'acc_06_02', 'acc_06_03',\n",
        "            'gyr_01', 'gyr_02', 'gyr_03',\n",
        "            'mag_01', 'mag_02', 'mag_03',\n",
        "            'ori_01', 'ori_02', 'ori_03', 'ori_04']\n",
        "col_names = col_names + [item for subolist in [[dat+'_'+loc for dat in IMU_data] for loc in IMU_locations] for item in sublist]"
      ],
      "execution_count": null,
      "outputs": []
    },
    {
      "cell_type": "code",
      "metadata": {
        "id": "UMT480-vNM-8"
      },
      "source": [
        "files = [\n",
        "    'dataset/protocol/subject101.dat',\n",
        "    'dataset/protocol/subject102.dat',\n",
        "    'dataset/protocol/subject103.dat',\n",
        "    'dataset/protocol/subject104.dat',\n",
        "    'dataset/protocol/subject105.dat',\n",
        "    'dataset/protocol/subject106.dat',\n",
        "    'dataset/protocol/subject107.dat',\n",
        "    'dataset/protocol/subject108.dat',\n",
        "    'dataset/protocol/subject109.dat'\n",
        "]\n",
        "\n",
        "data = pd.DataFrame()\n",
        "\n",
        "for file in files:\n",
        "    sub_data = pd.read_table(file, header=None, sep='\\s+')\n",
        "    sub_data.columns = col_names\n",
        "    sub_data['sub_id'] = int(file[-5])\n",
        "    sub_data['act_level'] = sub_data['activity_id'].apply(map_met)\n",
        "    data = data.append(sub_data, ignore_index=True)"
      ],
      "execution_count": null,
      "outputs": []
    },
    {
      "cell_type": "code",
      "metadata": {
        "id": "TmenjP-6s4nn"
      },
      "source": [
        "drop_index = []\n",
        "\n",
        "# get indexes of activity 0\n",
        "drop_index += list(data.index[data['activity_id']==0])\n",
        "\n",
        "# keep only activities as the person has performed\n",
        "drop_index += list(data.index[(data['sub_id']==1) & (data['activity_id'].isin([10,20]))])\n",
        "drop_index += list(data.index[(data['sub_id']==2) & (data['activity_id'].isin([9,10,11,18,19,20]))])\n",
        "drop_index += list(data.index[(data['sub_id']==3) & (data['activity_id'].isin([5,6,7,9,10,11,18,19,20,24]))])\n",
        "drop_index += list(data.index[(data['sub_id']==4) & (data['activity_id'].isin([5,9,10,11,18,19,20,24]))])\n",
        "drop_index += list(data.index[(data['sub_id']==5) & (data['activity_id'].isin([9,11,18,20]))])\n",
        "drop_index += list(data.index[(data['sub_id']==6) & (data['activity_id'].isin([9,11,20]))])\n",
        "drop_index += list(data.index[(data['sub_id']==7) & (data['activity_id'].isin([9,10,11,18,19,20,24]))])\n",
        "drop_index += list(data.index[(data['sub_id']==8) & (data['activity_id'].isin([9,11]))])\n",
        "drop_index += list(data.index[(data['sub_id']==9) & (data['activity_id'].isin([1,2,3,4,5,6,7,9,11,12,13,16,17]))])\n",
        "\n",
        "# drop index\n",
        "data = data.drop(drop_index)\n",
        "    \n",
        "# interpolate data\n",
        "data = data.interpolate()"
      ],
      "execution_count": null,
      "outputs": []
    },
    {
      "cell_type": "code",
      "metadata": {
        "id": "3ZEC87umXpkA"
      },
      "source": [
        "# remove transients, 10 seconds from the start and end of each activity\n",
        "freq = 100\n",
        "data['act_block'] = ((data['activity_id'].shift(1) != data['activity_id']) | (data['sub_id'].shift(1) != data['sub_id'])).astype(int).cumsum()\n",
        "drop_index = []\n",
        "numblocks = data['act_block'].max()\n",
        "for block in range(1, numblocks+1):\n",
        "    drop_index += list(data[data['act_block']==block].head(10 * freq).index)\n",
        "    drop_index += list(data[data['act_block']==block].tail(10 * freq).index)\n",
        "\n",
        "# drop index    \n",
        "data = data.drop(drop_index)"
      ],
      "execution_count": null,
      "outputs": []
    },
    {
      "cell_type": "markdown",
      "metadata": {
        "id": "aNU9q3X82FpP"
      },
      "source": [
        "### Segmentation"
      ]
    },
    {
      "cell_type": "code",
      "metadata": {
        "id": "QF7ijXslx1rV"
      },
      "source": [
        "# config variables for data preprocessing \n",
        "sampling_freq = 100\n",
        "window_size = int(5.12*sampling_freq)\n",
        "overlap = 1*sampling_freq # 1s overlap\n",
        "feature_size = 18\n",
        "columns_used = ['sub_id', 'activity_id', 'act_level', 'heart_rate',\n",
        "                'tmp_hand','acc_16_01_hand','acc_16_02_hand','acc_16_03_hand',\n",
        "                'gyr_01_hand','gyr_02_hand','gyr_03_hand',\n",
        "                'tmp_chest','acc_16_01_chest','acc_16_02_chest','acc_16_03_chest',\n",
        "                'gyr_01_chest','gyr_02_chest','gyr_03_chest',\n",
        "                'tmp_ankle','acc_16_01_ankle','acc_16_02_ankle','acc_16_03_ankle',\n",
        "                'gyr_01_ankle','gyr_02_ankle','gyr_03_ankle']\n",
        "\n",
        "# slide windows\n",
        "def windows(data, size):\n",
        "    start = 0\n",
        "    while start < data.count():\n",
        "        yield int(start), int(start + size)\n",
        "        start += overlap\n",
        "\n",
        "# segment signal\n",
        "def segment_signal(data,window_size = window_size):\n",
        "    segments = np.empty((0,window_size,feature_size))\n",
        "    labels = np.empty((0))\n",
        "    for (start, end) in windows(data['timestamp'], window_size):      \n",
        "        acc_16_01_hand = data[\"acc_16_01_hand\"][start:end] #4      \n",
        "        acc_16_02_hand = data[\"acc_16_02_hand\"][start:end] #5\n",
        "        acc_16_03_hand = data[\"acc_16_03_hand\"][start:end] #6 \n",
        "        gyr_01_hand = data[\"gyr_01_hand\"][start:end] #7 \n",
        "        gyr_02_hand = data[\"gyr_02_hand\"][start:end] #8\n",
        "        gyr_03_hand = data[\"gyr_03_hand\"][start:end] #9\n",
        "        acc_16_01_chest = data[\"acc_16_01_chest\"][start:end]#11\n",
        "        acc_16_02_chest = data[\"acc_16_02_chest\"][start:end]#12\n",
        "        acc_16_03_chest = data[\"acc_16_03_chest\"][start:end]#13\n",
        "        gyr_01_chest = data[\"gyr_01_chest\"][start:end]#14\n",
        "        gyr_02_chest = data[\"gyr_02_chest\"][start:end]#15\n",
        "        gyr_03_chest = data[\"gyr_03_chest\"][start:end]#16\n",
        "        acc_16_01_ankle = data[\"acc_16_01_ankle\"][start:end]#18\n",
        "        acc_16_02_ankle = data[\"acc_16_02_ankle\"][start:end]#19\n",
        "        acc_16_03_ankle = data[\"acc_16_03_ankle\"][start:end]#20\n",
        "        gyr_01_ankle = data[\"gyr_01_ankle\"][start:end]#21\n",
        "        gyr_02_ankle = data[\"gyr_02_ankle\"][start:end]#22\n",
        "        gyr_03_ankle = data[\"gyr_03_ankle\"][start:end]#23\n",
        "        if(len(data['timestamp'][start:end]) == window_size):\n",
        "            segments = np.vstack([segments,np.dstack([\n",
        "                                                      # act_level, heart_rate, tmp_hand, \n",
        "                                                      acc_16_01_hand, acc_16_02_hand, acc_16_03_hand,\n",
        "                                                      gyr_01_hand, gyr_02_hand, gyr_03_hand,\n",
        "                                                      # tmp_chest, \n",
        "                                                      acc_16_01_chest, acc_16_02_chest, acc_16_03_chest,\n",
        "                                                      gyr_01_chest, gyr_02_chest, gyr_03_chest, \n",
        "                                                      # tmp_ankle, \n",
        "                                                      acc_16_01_ankle, acc_16_02_ankle, acc_16_03_ankle,\n",
        "                                                      gyr_01_ankle, gyr_02_ankle, gyr_03_ankle,\n",
        "                                                      ])])\n",
        "            labels = np.append(labels,stats.mode(data[\"activity_id\"][start:end])[0][0])\n",
        "    return segments, labels"
      ],
      "execution_count": null,
      "outputs": []
    },
    {
      "cell_type": "code",
      "metadata": {
        "id": "Ny6wacHKx157"
      },
      "source": [
        "segments, labels = segment_signal(data)"
      ],
      "execution_count": null,
      "outputs": []
    }
  ]
}